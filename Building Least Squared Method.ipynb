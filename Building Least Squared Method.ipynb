{
 "cells": [
  {
   "cell_type": "code",
   "execution_count": 86,
   "id": "35d80c90",
   "metadata": {},
   "outputs": [],
   "source": [
    "import numpy as np\n",
    "import pandas as pd\n",
    "import matplotlib.pyplot as plt\n",
    "import random\n",
    "import math"
   ]
  },
  {
   "cell_type": "code",
   "execution_count": 47,
   "id": "bf3e9b53",
   "metadata": {},
   "outputs": [],
   "source": [
    "x = [8,2,11,6,5,4,12,9,6,1]\n",
    "y = [3,10,3,6,8,12,1,4,9,14]\n",
    "#for i in range(0,20):\n",
    " #   n = random.randint(1,50)\n",
    "  #  x.append(n)\n",
    "#for i in range(0,20):\n",
    " #   j = random.randint(10,60)\n",
    "  #  y.append(j)"
   ]
  },
  {
   "cell_type": "code",
   "execution_count": 69,
   "id": "c1bbeeb3",
   "metadata": {},
   "outputs": [
    {
     "name": "stdout",
     "output_type": "stream",
     "text": [
      "Line of Best Fit: y = -1.11x + 14.08\n"
     ]
    }
   ],
   "source": [
    "#The function for calculating the line of best fit.\n",
    "def line_of_best_fit(x,y):\n",
    "    \n",
    "    #Giving our final variable the ability to be passed outside of this function.\n",
    "    global yfit\n",
    "    \n",
    "    #First Step, calculate the mean of the x-values (Xbar), and the mean of the y-values (Ybar).\n",
    "    Xbar = sum(x)/(len(x)) #Calculating Xbar, aka the mean of all x-values.\n",
    "    Ybar = sum(y)/(len(y)) #Calculating Ybar, aka the mean of all y-values.\n",
    "    \n",
    "    #Initializing the lists for our for-loop.\n",
    "    numer = [] #This list contains the calculation for each xi and yi for the numerator (in order to sum)\n",
    "    denom = [] #This list contains the calculation for each xi^2 for the denominator (in order to sum)\n",
    "    \n",
    "    #This for loop will append the calculations for each of aformentioned lists.\n",
    "    for xi in range(len(x)):\n",
    "        numer.append((x[xi] - Xbar) * (y[xi] - Ybar)) #Numerator calculation\n",
    "        denom.append((x[xi] - Xbar)**2) #Denominator calculation\n",
    "        \n",
    "    numer = sum(numer) #Getting the sum of each appended value in the numerator list.\n",
    "    denom = sum(denom) #Getting the sum of each appended value in the denominator list.\n",
    "    \n",
    "    m = numer/denom #Finally, calculating m (our slope).\n",
    "    \n",
    "    #Now we will calculate the y-int of the line\n",
    "    b = Ybar - (m * Xbar)\n",
    "    \n",
    "    #Initialize the yfit list for plotting\n",
    "    yfit = []\n",
    "    for xi in x:\n",
    "        yfit.append(b + m * xi) #With our calculated values, we will put each x value into the equation to get our y coordinates to plot.\n",
    "    \n",
    "    print(\"Line of Best Fit: y = \"+str(round(m,2))+\"x + \"+str(round(b,2)))\n",
    "    \n",
    "\n",
    "line_of_best_fit(x,y)"
   ]
  },
  {
   "cell_type": "code",
   "execution_count": 70,
   "id": "8e05bac3",
   "metadata": {},
   "outputs": [
    {
     "data": {
      "text/plain": [
       "[<matplotlib.lines.Line2D at 0x1a9da3703a0>]"
      ]
     },
     "execution_count": 70,
     "metadata": {},
     "output_type": "execute_result"
    },
    {
     "data": {
      "image/png": "[encoded data removed]",
      "text/plain": [
       "<Figure size 640x480 with 1 Axes>"
      ]
     },
     "metadata": {},
     "output_type": "display_data"
    }
   ],
   "source": [
    "plt.scatter(x,y)\n",
    "plt.plot(x,yfit)"
   ]
  },
  {
   "cell_type": "code",
   "execution_count": 94,
   "id": "40bbbd58",
   "metadata": {},
   "outputs": [
    {
     "name": "stdout",
     "output_type": "stream",
     "text": [
      "0.007575736800590609\n"
     ]
    }
   ],
   "source": [
    "#Now we will find the R^2 for the data.\n",
    "x = [3,5,5,7,9,12,14,17]\n",
    "y = [22,24,28,20,28,31,37,33]\n",
    "\n",
    "def rsquared(x,y):\n",
    "    xy = []\n",
    "    xsquared = []\n",
    "    ysquared = []\n",
    "    \n",
    "    for xi in range(len(x)):\n",
    "        xy.append(x[xi] * y[xi])\n",
    "    \n",
    "    for xi in range(len(x)):\n",
    "        xsquared.append(x[xi]**2)\n",
    "        \n",
    "    for yi in range(len(y)):\n",
    "        ysquared.append(y[yi]**2)\n",
    "    \n",
    "    numer = len(x) * sum(xy) - sum(x) * sum(y) \n",
    "    denom = math.sqrt((len(x) * sum(xsquared) - (sum(x)**2))) * math.sqrt((n * sum(ysquared) - (sum(y)**2)))\n",
    "\n",
    "    rsquared = (numer/denom)**2\n",
    "    \n",
    "    print(rsquared)\n",
    "rsquared(x,y)"
   ]
  },
  {
   "cell_type": "code",
   "execution_count": null,
   "id": "8e832e97",
   "metadata": {},
   "outputs": [],
   "source": []
  }
 ],
 "metadata": {
  "kernelspec": {
   "display_name": "Python 3 (ipykernel)",
   "language": "python",
   "name": "python3"
  },
  "language_info": {
   "codemirror_mode": {
    "name": "ipython",
    "version": 3
   },
   "file_extension": ".py",
   "mimetype": "text/x-python",
   "name": "python",
   "nbconvert_exporter": "python",
   "pygments_lexer": "ipython3",
   "version": "3.9.13"
  }
 },
 "nbformat": 4,
 "nbformat_minor": 5
}
